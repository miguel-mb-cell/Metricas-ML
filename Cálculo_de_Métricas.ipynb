{
  "nbformat": 4,
  "nbformat_minor": 0,
  "metadata": {
    "colab": {
      "provenance": [],
      "toc_visible": true,
      "authorship_tag": "ABX9TyMM/vpR/qelovQabJBJs3R4",
      "include_colab_link": true
    },
    "kernelspec": {
      "name": "python3",
      "display_name": "Python 3"
    },
    "language_info": {
      "name": "python"
    }
  },
  "cells": [
    {
      "cell_type": "markdown",
      "metadata": {
        "id": "view-in-github",
        "colab_type": "text"
      },
      "source": [
        "<a href=\"https://colab.research.google.com/github/miguel-mb-cell/Metricas-ML/blob/main/C%C3%A1lculo_de_M%C3%A9tricas.ipynb\" target=\"_parent\"><img src=\"https://colab.research.google.com/assets/colab-badge.svg\" alt=\"Open In Colab\"/></a>"
      ]
    },
    {
      "cell_type": "code",
      "execution_count": 1,
      "metadata": {
        "id": "JFaIY3eYGDKf"
      },
      "outputs": [],
      "source": [
        "from keras import datasets, layers, models\n",
        "import matplotlib.pyplot as plt\n",
        "import tensorflow as tf\n",
        "\n",
        "import numpy as np\n",
        "\n",
        "import seaborn as sns\n",
        "\n",
        "import pandas as pd"
      ]
    },
    {
      "cell_type": "code",
      "source": [
        "(train_images, train_labels), (test_images, test_labels) = datasets.mnist.load_data()\n",
        "\n",
        "train_images = train_images.reshape((60000, 28, 28, 1))\n",
        "test_images = test_images.reshape((10000, 28, 28, 1))\n",
        "\n",
        "train_images, test_images = train_images / 255.0, test_images / 255.0\n",
        "\n",
        "classes=[0,1,2,3,4,5,6,7,8,9]"
      ],
      "metadata": {
        "colab": {
          "base_uri": "https://localhost:8080/"
        },
        "id": "cH8vjP3FKX4x",
        "outputId": "e46ab786-2211-4613-8bf9-a2613f0f33fa"
      },
      "execution_count": null,
      "outputs": [
        {
          "output_type": "stream",
          "name": "stdout",
          "text": [
            "Downloading data from https://storage.googleapis.com/tensorflow/tf-keras-datasets/mnist.npz\n",
            "\u001b[1m11490434/11490434\u001b[0m \u001b[32m━━━━━━━━━━━━━━━━━━━━\u001b[0m\u001b[37m\u001b[0m \u001b[1m0s\u001b[0m 0us/step\n"
          ]
        }
      ]
    },
    {
      "cell_type": "code",
      "source": [
        "model = models.Sequential()\n",
        "model.add(layers.Conv2D(32, (3, 3), activation='relu', input_shape=(28, 28, 1)))\n",
        "model.add(layers.MaxPooling2D((2, 2)))\n",
        "model.add(layers.Conv2D(64, (3, 3), activation='relu'))\n",
        "model.add(layers.MaxPooling2D((2, 2)))\n",
        "model.add(layers.Conv2D(64, (3, 3), activation='relu'))\n",
        "\n",
        "model.add(layers.Flatten())\n",
        "model.add(layers.Dense(64, activation='relu'))\n",
        "model.add(layers.Dense(10, activation='softmax'))"
      ],
      "metadata": {
        "colab": {
          "base_uri": "https://localhost:8080/"
        },
        "id": "6UrrQef9K6Na",
        "outputId": "eb28e9fe-86d1-4af4-d174-7112239d3b00"
      },
      "execution_count": null,
      "outputs": [
        {
          "output_type": "stream",
          "name": "stderr",
          "text": [
            "/usr/local/lib/python3.10/dist-packages/keras/src/layers/convolutional/base_conv.py:107: UserWarning: Do not pass an `input_shape`/`input_dim` argument to a layer. When using Sequential models, prefer using an `Input(shape)` object as the first layer in the model instead.\n",
            "  super().__init__(activity_regularizer=activity_regularizer, **kwargs)\n"
          ]
        }
      ]
    },
    {
      "cell_type": "code",
      "source": [
        "tensorboard_callback = tf.keras.callbacks.TensorBoard('log', histogram_freq=1)\n",
        "model.compile(optimizer='adam',\n",
        "              loss='sparse_categorical_crossentropy',\n",
        "              metrics=['accuracy'])\n",
        "\n",
        "model.fit(x=train_images,\n",
        "          y=train_labels,\n",
        "          epochs=5,\n",
        "          validation_data=(test_images, test_labels))"
      ],
      "metadata": {
        "colab": {
          "base_uri": "https://localhost:8080/"
        },
        "id": "bbxIQ1Z4LGfS",
        "outputId": "c21936bc-9bf4-40e1-97d7-213321a92176"
      },
      "execution_count": null,
      "outputs": [
        {
          "output_type": "stream",
          "name": "stdout",
          "text": [
            "Epoch 1/5\n",
            "\u001b[1m1875/1875\u001b[0m \u001b[32m━━━━━━━━━━━━━━━━━━━━\u001b[0m\u001b[37m\u001b[0m \u001b[1m73s\u001b[0m 38ms/step - accuracy: 0.8899 - loss: 0.3537 - val_accuracy: 0.9826 - val_loss: 0.0521\n",
            "Epoch 2/5\n",
            "\u001b[1m1875/1875\u001b[0m \u001b[32m━━━━━━━━━━━━━━━━━━━━\u001b[0m\u001b[37m\u001b[0m \u001b[1m87s\u001b[0m 41ms/step - accuracy: 0.9843 - loss: 0.0485 - val_accuracy: 0.9876 - val_loss: 0.0377\n",
            "Epoch 3/5\n",
            "\u001b[1m1875/1875\u001b[0m \u001b[32m━━━━━━━━━━━━━━━━━━━━\u001b[0m\u001b[37m\u001b[0m \u001b[1m78s\u001b[0m 41ms/step - accuracy: 0.9894 - loss: 0.0328 - val_accuracy: 0.9911 - val_loss: 0.0296\n",
            "Epoch 4/5\n",
            "\u001b[1m1875/1875\u001b[0m \u001b[32m━━━━━━━━━━━━━━━━━━━━\u001b[0m\u001b[37m\u001b[0m \u001b[1m68s\u001b[0m 34ms/step - accuracy: 0.9915 - loss: 0.0256 - val_accuracy: 0.9893 - val_loss: 0.0335\n",
            "Epoch 5/5\n",
            "\u001b[1m1875/1875\u001b[0m \u001b[32m━━━━━━━━━━━━━━━━━━━━\u001b[0m\u001b[37m\u001b[0m \u001b[1m80s\u001b[0m 33ms/step - accuracy: 0.9928 - loss: 0.0202 - val_accuracy: 0.9903 - val_loss: 0.0311\n"
          ]
        },
        {
          "output_type": "execute_result",
          "data": {
            "text/plain": [
              "<keras.src.callbacks.history.History at 0x7a987fec7d60>"
            ]
          },
          "metadata": {},
          "execution_count": 6
        }
      ]
    },
    {
      "cell_type": "code",
      "source": [
        "y_true=test_labels\n",
        "y_pred=np.argmax(model.predict(test_images), axis=-1)\n",
        "\n",
        "con_mat = tf.math.confusion_matrix(labels=y_true,predictions=y_pred).numpy()\n",
        "con_mat_norm = np.around(con_mat.astype('float') / con_mat.sum(axis=1)[:, np.newaxis], decimals=2)\n",
        "\n",
        "con_mat_df = pd.DataFrame(con_mat_norm,\n",
        "                     index = classes,\n",
        "                     columns = classes)\n",
        "\n",
        "figure = plt.figure(figsize=(8, 8))\n",
        "sns.heatmap(con_mat_df, annot=True,cmap=plt.cm.Blues)\n",
        "plt.tight_layout()\n",
        "plt.ylabel('True label')\n",
        "plt.xlabel('Predicted label')\n",
        "plt.show()"
      ],
      "metadata": {
        "colab": {
          "base_uri": "https://localhost:8080/",
          "height": 844
        },
        "id": "KLXDoSCMLzLX",
        "outputId": "0eccf80d-c598-41ed-a54e-2d06da79a08d"
      },
      "execution_count": null,
      "outputs": [
        {
          "output_type": "stream",
          "name": "stdout",
          "text": [
            "\u001b[1m313/313\u001b[0m \u001b[32m━━━━━━━━━━━━━━━━━━━━\u001b[0m\u001b[37m\u001b[0m \u001b[1m4s\u001b[0m 14ms/step\n"
          ]
        },
        {
          "output_type": "display_data",
          "data": {
            "text/plain": [
              "<Figure size 800x800 with 2 Axes>"
            ],
            "image/png": "[encoded data removed]"
          },
          "metadata": {}
        }
      ]
    },
    {
      "cell_type": "markdown",
      "source": [
        "Nessa matriz gerada, podemos ver quais foram as previsões do modelo para cada classe.\n",
        "\n",
        "Vemos que nas classes 0, 1, 7 o modelo teve apenas **Verdadeiros Positivos**, ou seja, acertou todas as previsões para essas classes. Dessa forma, suas métricas serão 100% para todos os casos, já que não houve erros.\n",
        "\n",
        "Nas classes 2, 3, 5, 6 e 8, o modelo previu corretamente 99% dos casos. Vamos calcular as métricas do modelo para essas classes."
      ],
      "metadata": {
        "id": "n6qK4vejX892"
      }
    },
    {
      "cell_type": "markdown",
      "source": [
        "# Sensibilidade\n",
        "Mede a capacidade do modelo de identificar corretamente as amostras positivas para cada classe.<br><br>\n",
        "Fórmula: $\\frac{VP}{VP+FN}$<br><br>\n",
        "Aqui está a sensibilidade do modelo para cada classe:\n",
        "<br><br>\n",
        "<h3>Classe 0: $\\frac{1.00}{1.00+0}=1.00$ </h3>\n",
        "<br>\n",
        "<h3>Classe 1: $\\frac{1.00}{1.00+0}=1.00$</h3>\n",
        "<br>\n",
        "<h3>Classe 2: $\\frac{0.99}{0.99+0}=1.00$</h3>\n",
        "<br>\n",
        "<h3>Classe 3: $\\frac{0.99}{0.99+0.01}=0.99$</h3>\n",
        "<br>\n",
        "<h3>Classe 4: $\\frac{0.98}{0.98+0.02}=0.98$</h3>\n",
        "<br>\n",
        "<h3>Classe 5: $\\frac{0.99}{0.99+0}=1.00$</h3>\n",
        "<br>\n",
        "<h3>Classe 6: $\\frac{0.99}{0.99+0}=1.00$</h3>\n",
        "<br>\n",
        "<h3>Classe 7: $\\frac{1.00}{1.00+0}=1.00$</h3>\n",
        "<br>\n",
        "<h3>Classe 8: $\\frac{0.99}{0.99+0}=1.00$</h3>\n",
        "<br>\n",
        "<h3>Classe 9:$\\frac{0.97}{0.97+0.02}=0.98$</h3>"
      ],
      "metadata": {
        "id": "0BDj3giXYC71"
      }
    },
    {
      "cell_type": "markdown",
      "source": [
        "# Especifidade\n",
        "Mede a capacidede do modelo de identificar corretamente as amostras negativas para cada classe.<br><br>\n",
        "Fórmula: $\\frac{VN}{FP+VN}$<br><br>\n",
        "Para o modelo, o cálculo fica:\n",
        "<br><br>\n",
        "<h3>Classe 0: $\\frac{8.93}{8.93+0.07}=0.9922$</h3>\n",
        "<br>\n",
        "<h3>Classe 1: $\\frac{8.93}{8.93+0.07}=0.9922$</h3>\n",
        "<br>\n",
        "<h3>Classe 2: $\\frac{8.94}{8.94+0.06}=0.9933$</h3>\n",
        "<br>\n",
        "<h3>Classe 3: $\\frac{8.93}{8.93+0.07}=0.9922$</h3>\n",
        "<br>\n",
        "<h3>Classe 4: $\\frac{8.91}{8.91+0.09}=0.9900$</h3>\n",
        "<br>\n",
        "<h3>Classe 5: $\\frac{8.93}{8.93+0.07}=0.9922$</h3>\n",
        "<br>\n",
        "<h3>Classe 6: $\\frac{8.94}{8.94+0.06}=0.9933$</h3>\n",
        "<br>\n",
        "<h3>Classe 7: $\\frac{8.93}{8.93+0.07}=0.9922$</h3>\n",
        "<br>\n",
        "<h3>Classe 8: $\\frac{8.93}{8.93+0.07}=0.9922$</h3>\n",
        "<br>\n",
        "<h3>Classe 9: $\\frac{8.89}{8.89+0.11}=0.9878$</h3>"
      ],
      "metadata": {
        "id": "XvkP5pDoYIJ9"
      }
    },
    {
      "cell_type": "markdown",
      "source": [
        "# Acurácia:\n",
        "É a proporção de verdadeiros positivos e verdadeiros negativos em relação ao total de amostras. Mede a precisão geral do modelo.<br><br>\n",
        "Fórmula: $\\frac{∑VPs+∑VNs}{N}$<br><br>\n",
        "Dessa forma, a acurácia do modelo é:\n",
        "<br><br>\n",
        "<h3>$\\frac{9.82}{10}=0.982$</h3>"
      ],
      "metadata": {
        "id": "3Z6X5cSMYNnW"
      }
    },
    {
      "cell_type": "markdown",
      "source": [
        "# Precisão\n",
        "Mede a capacidade do modelo de identificar corretamente as amostras negativas para cada classe.<br><br>\n",
        "Fórmula: $\\frac{VP}{VP+FP}$<br><br>\n",
        "A precisão para cada classe do modelo é:\n",
        "<br><br>\n",
        "<h3>Classe 0: $\\frac{1.00}{1.00+0}=1.00$</h3>\n",
        "<br>\n",
        "<h3>Classe 1: $\\frac{1.00}{1.00+0}=1.00$</h3>\n",
        "<br>\n",
        "<h3>Classe 2: $\\frac{0.99}{0.99+0.01}=0.99$</h3>\n",
        "<br>\n",
        "<h3>Classe 3: $\\frac{0.99}{0.99+0.01}=0.99$</h3>\n",
        "<br>\n",
        "<h3>Classe 4: $\\frac{0.98}{0.98+0.02}=0.98$</h3>\n",
        "<br>\n",
        "<h3>Classe 5: $\\frac{0.99}{0.99+0}=1.00$</h3>\n",
        "<br>\n",
        "<h3>Classe 6: $\\frac{0.99}{0.99+0}=1.00$</h3>\n",
        "<br>\n",
        "<h3>Classe 7: $\\frac{1.00}{1.00+0}=1.00$</h3>\n",
        "<br>\n",
        "<h3>Classe 8: $\\frac{0.99}{0.99+0}=1.00$</h3>\n",
        "<br>\n",
        "<h3>Classe 9:$\\frac{0.97}{0.97+0.02}=0.98$</h3>"
      ],
      "metadata": {
        "id": "qjUrXDRXYQp_"
      }
    },
    {
      "cell_type": "markdown",
      "source": [
        "# F-score\n",
        "É a média harmônica da precisão e da sensibilidade.<br><br>\n",
        "Fórmula: <h3>$\\frac{2×(PrecisãoxSensibilidade}{Precisão+Sensibilidade}$</h3><br>\n",
        "Para cada classe, essa média fica:\n",
        "<br><br>\n",
        "<h3>Classe 0: $\\frac{2 × 1.00 × 1.00}{1.00 + 1.00}=1.00$</h3>\n",
        "<br>\n",
        "<h3>Classe 1: $\\frac{2 × 1.00 × 1.00}{1.00 + 1.00}=1.00$</h3>\n",
        "<br>\n",
        "<h3>Classe 2: $\\frac{2 × 0.99 × 1.00}{0.99 + 1.00}=0.99$</h3>\n",
        "<br>\n",
        "<h3>Classe 3: $\\frac{2 × 0.99 × 0.99}{0.99 + 0.99}=0.99$</h3>\n",
        "<br>\n",
        "<h3>Classe 4: $\\frac{2 × 0.98 × 0.98}{0.98 + 0.98}=0.98$</h3>\n",
        "<br>\n",
        "<h3>Classe 5: $\\frac{2 × 1.00 × 1.00}{1.00 + 1.00}=1.00$</h3>\n",
        "<br>\n",
        "<h3>Classe 6: $\\frac{2 × 1.00 × 1.00}{1.00 + 1.00}=1.00$</h3>\n",
        "<br>\n",
        "<h3>Classe 7: $\\frac{2 × 1.00 × 1.00}{1.00 + 1.00}=1.00$</h3>\n",
        "<br>\n",
        "<h3>Classe 8: $\\frac{2 × 1.00 × 0.99}{1.00 + 0.99}=0.995$</h3>\n",
        "<br>\n",
        "<h3>Classe 9: $\\frac{2 × 0.98 × 0.97}{0.98 + 0.97}=0.975$</h3>\n",
        "\n"
      ],
      "metadata": {
        "id": "a5dthuYSVItN"
      }
    },
    {
      "cell_type": "markdown",
      "source": [
        "# Conclusão\n",
        "\n",
        "<table>\n",
        "  <thead>\n",
        "    <tr>\n",
        "      <th><h2>Classe</h2></th>\n",
        "      <th><h2>Sensibilidade</h2></th>\n",
        "      <th><h2>Especificidade</h2></th>\n",
        "      <th><h2>Acurácia</h2></th>\n",
        "      <th><h2>Precisão</h2></th>\n",
        "      <th><h2>F-score</h2></th>\n",
        "    </tr>\n",
        "  </thead>\n",
        "  <tbody>\n",
        "    <tr>\n",
        "      <td><h3>0</h3></td>\n",
        "      <td><h3>1.00</h3></td>\n",
        "      <td><h3>0.9922</h3></td>\n",
        "      <td><h3>0.982</h3></td>\n",
        "      <td><h3>1.00</h3></td>\n",
        "      <td><h3>1.00</h3></td>\n",
        "    </tr>\n",
        "    <tr>\n",
        "      <td><h3>1</h3></td>\n",
        "      <td><h3>1.00</h3></td>\n",
        "      <td><h3>0.9922</h3></td>\n",
        "      <td><h3>0.982</h3></td>\n",
        "      <td><h3>1.00</h3></td>\n",
        "      <td><h3>1.00</h3></td>\n",
        "    </tr>\n",
        "    <tr>\n",
        "      <td><h3>2</h3></td>\n",
        "      <td><h3>1.00</h3></td>\n",
        "      <td><h3>0.9933</h3></td>\n",
        "      <td><h3>0.982</h3></td>\n",
        "      <td><h3>0.99</h3></td>\n",
        "      <td><h3>0.99</h3></td>\n",
        "    </tr>\n",
        "    <tr>\n",
        "      <td><h3>3</h3></td>\n",
        "      <td><h3>0.99</h3></td>\n",
        "      <td><h3>0.9922</h3></td>\n",
        "      <td><h3>0.982</h3></td>\n",
        "      <td><h3>0.99</h3></td>\n",
        "      <td><h3>0.99</h3></td>\n",
        "    </tr>\n",
        "    <tr>\n",
        "      <td><h3>4</h3></td>\n",
        "      <td><h3>0.98</h3></td>\n",
        "      <td><h3>0.9900</h3></td>\n",
        "      <td><h3>0.982</h3></td>\n",
        "      <td><h3>0.98</h3></td>\n",
        "      <td><h3>0.98</h3></td>\n",
        "    </tr>\n",
        "    <tr>\n",
        "      <td><h3>5</h3></td>\n",
        "      <td><h3>1.00</h3></td>\n",
        "      <td><h3>0.9922</h3></td>\n",
        "      <td><h3>0.982</h3></td>\n",
        "      <td><h3>1.00</h3></td>\n",
        "      <td><h3>1.00</h3></td>\n",
        "    </tr>\n",
        "    <tr>\n",
        "      <td><h3>6</h3></td>\n",
        "      <td><h3>1.00</h3></td>\n",
        "      <td><h3>0.9933</h3></td>\n",
        "      <td><h3>0.982</h3></td>\n",
        "      <td><h3>1.00</h3></td>\n",
        "      <td><h3>1.00</h3></td>\n",
        "    </tr>\n",
        "    <tr>\n",
        "      <td><h3>7</h3></td>\n",
        "      <td><h3>1.00</h3></td>\n",
        "      <td><h3>0.9922</h3></td>\n",
        "      <td><h3>0.982</h3></td>\n",
        "      <td><h3>1.00</h3></td>\n",
        "      <td><h3>1.00</h3></td>\n",
        "    </tr>\n",
        "    <tr>\n",
        "      <td><h3>8</h3></td>\n",
        "      <td><h3>1.00</h3></td>\n",
        "      <td><h3>0.9922</h3></td>\n",
        "      <td><h3>0.982</h3></td>\n",
        "      <td><h3>0.99</h3></td>\n",
        "      <td><h3>0.995</h3></td>\n",
        "    </tr>\n",
        "    <tr>\n",
        "      <td><h3>9</h3></td>\n",
        "      <td><h3>0.98</h3></td>\n",
        "      <td><h3>0.9878</h3></td>\n",
        "      <td><h3>0.982</h3></td>\n",
        "      <td><h3>0.98</h3></td>\n",
        "      <td><h3>0.975</h3></td>\n",
        "    </tr>\n",
        "  </tbody>\n",
        "</table>\n",
        "\n"
      ],
      "metadata": {
        "id": "77uXcsEbYUEP"
      }
    }
  ]
}